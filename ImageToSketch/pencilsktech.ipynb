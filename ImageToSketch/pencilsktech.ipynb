{
 "cells": [
  {
   "cell_type": "markdown",
   "metadata": {},
   "source": [
    "# Lets Grow More\n",
    "# Virtual Internship Program - Data Science Intern\n",
    "## Batch of May, 2022\n",
    "\n",
    "<h2><h2>\n",
    "\n",
    "## Image to pencil sketch with Python - Made By Sabyasachi Seal \n",
    "\n",
    "<hr>"
   ]
  },
  {
   "cell_type": "markdown",
   "metadata": {},
   "source": [
    "## Importing the required module and the Picture"
   ]
  },
  {
   "cell_type": "code",
   "execution_count": 32,
   "metadata": {},
   "outputs": [],
   "source": [
    "import cv2"
   ]
  },
  {
   "cell_type": "markdown",
   "metadata": {},
   "source": [
    "## Reading the Original Image"
   ]
  },
  {
   "cell_type": "code",
   "execution_count": 33,
   "metadata": {},
   "outputs": [],
   "source": [
    "def imager(cv2):\n",
    "    image = cv2.imread(\"image.jpg\")\n",
    "    while True:\n",
    "        if cv2.waitKey(0) == ord('a'):\n",
    "            cv2.destroyWindow(winname = \"Original\");\n",
    "            return image\n",
    "        cv2.imshow(\"Original\", image)"
   ]
  },
  {
   "cell_type": "markdown",
   "metadata": {},
   "source": [
    "## Turning the image into GrayScale"
   ]
  },
  {
   "cell_type": "code",
   "execution_count": 34,
   "metadata": {},
   "outputs": [],
   "source": [
    "def grey(cv2, image):\n",
    "    gray_image = cv2.cvtColor(image, cv2.COLOR_BGR2GRAY)\n",
    "    while True:\n",
    "        if cv2.waitKey(0) == ord('a'):\n",
    "            cv2.destroyWindow(winname = \"GrayScale\");\n",
    "            return gray_image\n",
    "        cv2.imshow(\"GrayScale\", gray_image)"
   ]
  },
  {
   "cell_type": "markdown",
   "metadata": {},
   "source": [
    "## Inverting the GrayScale Image"
   ]
  },
  {
   "cell_type": "code",
   "execution_count": 35,
   "metadata": {},
   "outputs": [],
   "source": [
    "def invert(cv2, gray_image):\n",
    "    inverted_image = 255 - gray_image\n",
    "    while True:\n",
    "        if cv2.waitKey(0) == ord('a'):\n",
    "            cv2.destroyWindow(winname = \"Inverted Image\");\n",
    "            return inverted_image\n",
    "        cv2.imshow(\"Inverted Image\", inverted_image)"
   ]
  },
  {
   "cell_type": "markdown",
   "metadata": {},
   "source": [
    "## Making a blurred Version(Gaussian Blur)"
   ]
  },
  {
   "cell_type": "code",
   "execution_count": 36,
   "metadata": {},
   "outputs": [],
   "source": [
    "def blur(cv2, inverted_image):\n",
    "    blurred = cv2.GaussianBlur(inverted_image, (21, 21), 0)\n",
    "    return blurred"
   ]
  },
  {
   "cell_type": "markdown",
   "metadata": {},
   "source": [
    "## Inverting the blurred Image and Making it Black and White"
   ]
  },
  {
   "cell_type": "code",
   "execution_count": 37,
   "metadata": {},
   "outputs": [],
   "source": [
    "def pencilsketch(cv2, gray_image, inverted_image, blurred):\n",
    "    inverted_blurred = 255 - blurred\n",
    "    pencil_sketch = cv2.divide(gray_image, inverted_blurred, scale=256.0)\n",
    "    while True:\n",
    "        if cv2.waitKey(0) == ord('a'):\n",
    "            cv2.destroyWindow(winname = \"Pencil Sketch\");\n",
    "            return\n",
    "        cv2.imshow(\"Pencil Sketch\", pencil_sketch)"
   ]
  },
  {
   "cell_type": "markdown",
   "metadata": {},
   "source": [
    "## Orchestrating the funtions"
   ]
  },
  {
   "cell_type": "code",
   "execution_count": 38,
   "metadata": {},
   "outputs": [],
   "source": [
    "def main():\n",
    "    image = imager(cv2)\n",
    "    gray_image = grey(cv2, image)\n",
    "    inverted = invert(cv2, gray_image)\n",
    "    blurred = blur(cv2, inverted)\n",
    "    pencilsketch(cv2, gray_image, inverted, blurred)"
   ]
  },
  {
   "cell_type": "code",
   "execution_count": 39,
   "metadata": {},
   "outputs": [],
   "source": [
    "if __name__ == \"__main__\":\n",
    "    main()"
   ]
  },
  {
   "cell_type": "markdown",
   "metadata": {},
   "source": [
    "<hr>"
   ]
  }
 ],
 "metadata": {
  "interpreter": {
   "hash": "38d51dd8e8d25c2b4859ddf5fde4d8615b38902fd48d30a19bf46ddb81d406a6"
  },
  "kernelspec": {
   "display_name": "Python 3.9.12 64-bit (windows store)",
   "language": "python",
   "name": "python3"
  },
  "language_info": {
   "codemirror_mode": {
    "name": "ipython",
    "version": 3
   },
   "file_extension": ".py",
   "mimetype": "text/x-python",
   "name": "python",
   "nbconvert_exporter": "python",
   "pygments_lexer": "ipython3",
   "version": "3.9.12"
  },
  "orig_nbformat": 4
 },
 "nbformat": 4,
 "nbformat_minor": 2
}
